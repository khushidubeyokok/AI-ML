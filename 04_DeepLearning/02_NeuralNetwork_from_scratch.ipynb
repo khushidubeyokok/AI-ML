{
  "nbformat": 4,
  "nbformat_minor": 0,
  "metadata": {
    "colab": {
      "provenance": [],
      "gpuType": "T4",
      "mount_file_id": "1Tp4K6MV8eesg2z11u9ENDoyZwzZrZ6Xk",
      "authorship_tag": "ABX9TyOzRmvZt6y21brMrfMtlGSb",
      "include_colab_link": true
    },
    "kernelspec": {
      "name": "python3",
      "display_name": "Python 3"
    },
    "language_info": {
      "name": "python"
    },
    "accelerator": "GPU"
  },
  "cells": [
    {
      "cell_type": "markdown",
      "metadata": {
        "id": "view-in-github",
        "colab_type": "text"
      },
      "source": [
        "<a href=\"https://colab.research.google.com/github/khushidubeyokok/AI-ML/blob/main/04_DeepLearning/02_NeuralNetwork_from_scratch.ipynb\" target=\"_parent\"><img src=\"https://colab.research.google.com/assets/colab-badge.svg\" alt=\"Open In Colab\"/></a>"
      ]
    },
    {
      "cell_type": "markdown",
      "source": [
        "# Building a classification model from scratch\n",
        "\n",
        "- Aim is to classify the [MNSIT data](https://www.kaggle.com/competitions/digit-recognizer/data?select=train.csv) [0-9]\n",
        "1.   Import libraries and create data\n",
        "2.   Define functions\n",
        "3.   Training, testing\n",
        "\n",
        "\n",
        "\n",
        "\n",
        "\n"
      ],
      "metadata": {
        "id": "KK2XOv1f9fP8"
      }
    },
    {
      "cell_type": "markdown",
      "source": [
        "## Importing libraries and crating data\n"
      ],
      "metadata": {
        "id": "-CNC5jXyQPxq"
      }
    },
    {
      "cell_type": "code",
      "source": [
        "import pandas as pd\n",
        "import numpy as np\n",
        "import matplotlib.pyplot as plt"
      ],
      "metadata": {
        "id": "QWd7AUt9--MN"
      },
      "execution_count": 7,
      "outputs": []
    },
    {
      "cell_type": "code",
      "source": [
        "training_data=np.array(pd.read_csv('/content/train.csv')) #storing the data in form of an array\n",
        "testing_data=np.array(pd.read_csv('/content/test.csv'))\n",
        "\n",
        "np.random.shuffle(training_data)\n",
        "np.random.shuffle(testing_data) # shuffling data to avoid overfitting the model ie. the model might learn from order"
      ],
      "metadata": {
        "id": "DzcMkd-u_FXA"
      },
      "execution_count": 8,
      "outputs": []
    },
    {
      "cell_type": "code",
      "source": [
        "print(training_data.shape) #it consists of 42000 image samples {rows} each image is of 28*28 pixels=784 + first column consisting labels = 785\n",
        "print(testing_data.shape) # the testing data consists of 28000 samples of images {rows} of 28*28pixels each {column} no label"
      ],
      "metadata": {
        "id": "WQ31jguOAsph",
        "colab": {
          "base_uri": "https://localhost:8080/"
        },
        "outputId": "f03e63a1-1ec7-4ee5-e486-642c37ec595b"
      },
      "execution_count": 9,
      "outputs": [
        {
          "output_type": "stream",
          "name": "stdout",
          "text": [
            "(42000, 785)\n",
            "(28000, 784)\n"
          ]
        }
      ]
    },
    {
      "cell_type": "code",
      "source": [
        "training_data=training_data.T   #transposing the array , now the rows represent pixels and columns represent images\n",
        "\n",
        "testing_data=testing_data.T\n",
        "print(f\"training data {training_data.shape} | testing data {testing_data.shape}\")"
      ],
      "metadata": {
        "id": "BEAfNrstDAYL",
        "colab": {
          "base_uri": "https://localhost:8080/"
        },
        "outputId": "5150127b-617a-40c2-dded-09e42cbfb8f9"
      },
      "execution_count": 10,
      "outputs": [
        {
          "output_type": "stream",
          "name": "stdout",
          "text": [
            "training data (785, 42000) | testing data (784, 28000)\n"
          ]
        }
      ]
    },
    {
      "cell_type": "code",
      "source": [
        "x_train=training_data[1:]/255 #normalised by dividing - 0 represent black and 1 represent white\n",
        "y_train=training_data[0] #the first row ie lables\n",
        "x_test=testing_data/255"
      ],
      "metadata": {
        "id": "2-R-FnC9Bafc"
      },
      "execution_count": 11,
      "outputs": []
    },
    {
      "cell_type": "code",
      "source": [
        "x_train.shape,y_train.shape,x_test.shape"
      ],
      "metadata": {
        "id": "4nZH_9gvC-IA",
        "colab": {
          "base_uri": "https://localhost:8080/"
        },
        "outputId": "8409bf42-ed9a-4396-bd27-d8993e79d45d"
      },
      "execution_count": 12,
      "outputs": [
        {
          "output_type": "execute_result",
          "data": {
            "text/plain": [
              "((784, 42000), (42000,), (784, 28000))"
            ]
          },
          "metadata": {},
          "execution_count": 12
        }
      ]
    },
    {
      "cell_type": "code",
      "source": [
        "x_train[:5], y_train[:5]"
      ],
      "metadata": {
        "id": "Twd9BZIADIKR",
        "colab": {
          "base_uri": "https://localhost:8080/"
        },
        "outputId": "2bcd7f86-3679-481c-cc4c-ec42e54d9a96"
      },
      "execution_count": 13,
      "outputs": [
        {
          "output_type": "execute_result",
          "data": {
            "text/plain": [
              "(array([[0., 0., 0., ..., 0., 0., 0.],\n",
              "        [0., 0., 0., ..., 0., 0., 0.],\n",
              "        [0., 0., 0., ..., 0., 0., 0.],\n",
              "        [0., 0., 0., ..., 0., 0., 0.],\n",
              "        [0., 0., 0., ..., 0., 0., 0.]]),\n",
              " array([0, 2, 9, 0, 1]))"
            ]
          },
          "metadata": {},
          "execution_count": 13
        }
      ]
    },
    {
      "cell_type": "code",
      "source": [
        "x_test[:5]"
      ],
      "metadata": {
        "id": "hjT2W5hvHFjD",
        "colab": {
          "base_uri": "https://localhost:8080/"
        },
        "outputId": "61d2988d-c119-4d59-8554-0fcf9010f792"
      },
      "execution_count": 14,
      "outputs": [
        {
          "output_type": "execute_result",
          "data": {
            "text/plain": [
              "array([[0., 0., 0., ..., 0., 0., 0.],\n",
              "       [0., 0., 0., ..., 0., 0., 0.],\n",
              "       [0., 0., 0., ..., 0., 0., 0.],\n",
              "       [0., 0., 0., ..., 0., 0., 0.],\n",
              "       [0., 0., 0., ..., 0., 0., 0.]])"
            ]
          },
          "metadata": {},
          "execution_count": 14
        }
      ]
    },
    {
      "cell_type": "code",
      "source": [
        "import matplotlib.pyplot as plt\n",
        "\n",
        "# take first image from test set\n",
        "img=x_test.transpose()\n",
        "image = img[152].reshape(28, 28)   # reshape 784 → 28x28 for plotting\n",
        "\n",
        "plt.imshow(image, cmap=\"gray\")\n",
        "plt.title(\"MNIST Test Image\")\n",
        "plt.axis(\"off\")\n",
        "plt.show()"
      ],
      "metadata": {
        "colab": {
          "base_uri": "https://localhost:8080/",
          "height": 428
        },
        "id": "T_rULG20_zFQ",
        "outputId": "0f435b85-7219-4808-bbfa-6ed50c642370"
      },
      "execution_count": 43,
      "outputs": [
        {
          "output_type": "display_data",
          "data": {
            "text/plain": [
              "<Figure size 640x480 with 1 Axes>"
            ],
            "image/png": "[encoded data removed]"
          },
          "metadata": {}
        }
      ]
    },
    {
      "cell_type": "markdown",
      "source": [
        "## Define functions"
      ],
      "metadata": {
        "id": "9dOYB5o3H06R"
      }
    },
    {
      "cell_type": "code",
      "source": [
        "# Initialisng parameters\n",
        "\n",
        "def initialize_params():\n",
        "  W1=np.random.randn(10,784)*0. # Each of the 10 neurons in layer 1 needs 784 weights (one per input pixel).\n",
        "  b1=np.random.randn(10,1)*0.01\n",
        "  W2=np.random.randn(10,10)*0.01\n",
        "  b2=np.random.randn(10,1)*0.01\n",
        "\n",
        "  return W1,b1,W2,b2"
      ],
      "metadata": {
        "id": "eLYq7zj762h9"
      },
      "execution_count": 15,
      "outputs": []
    },
    {
      "cell_type": "code",
      "source": [
        "# normalisation\n",
        "\n",
        "def normalise(x):\n",
        "  mean=np.mean(x)\n",
        "  std=np.std(x)\n",
        "\n",
        "  return (x-mean)/std"
      ],
      "metadata": {
        "id": "wkz9ZtOh62cO"
      },
      "execution_count": 16,
      "outputs": []
    },
    {
      "cell_type": "code",
      "source": [
        "# ReLU activation function\n",
        "\n",
        "def relu(x):\n",
        "    return np.maximum(0,x) #returns x if x i spositive else returns zero"
      ],
      "metadata": {
        "id": "wBUuXM1LLL05"
      },
      "execution_count": 17,
      "outputs": []
    },
    {
      "cell_type": "code",
      "source": [
        "# backpropogation, ReLU derivative\n",
        "\n",
        "def relu_derivative(x):\n",
        "  return x>0"
      ],
      "metadata": {
        "id": "n170t_TcLeqU"
      },
      "execution_count": 18,
      "outputs": []
    },
    {
      "cell_type": "code",
      "source": [
        "# softmax activation function\n",
        "\n",
        "def softmax(Z):\n",
        "  Z=Z-np.max(Z,axis=0)\n",
        "  A= np.exp(Z)/np.sum(np.exp(Z),axis=0)\n",
        "\n",
        "  return A"
      ],
      "metadata": {
        "id": "Lcx409joMbFc"
      },
      "execution_count": 19,
      "outputs": []
    },
    {
      "cell_type": "code",
      "source": [
        "# encoder\n",
        "\n",
        "def one_hot_encoder(y):  #if y=[0,1,2,1]\n",
        "  one_hot_y=np.zeros((y.size,y.max()+1)) #this initialises an array of four rows and three columns\n",
        "  one_hot_y[np.arange(y.size),y]=1 #one_hot_u[0,0]=1 then [1,1]=1 then [2,2]=1 then [3,1]=1\n",
        "  one_hot_y=one_hot_y.T #transforms the hot encoded array\n",
        "\n",
        "  return one_hot_y"
      ],
      "metadata": {
        "id": "NOSbYXdbT7RG"
      },
      "execution_count": 20,
      "outputs": []
    },
    {
      "cell_type": "code",
      "source": [
        "# forward pass\n",
        "\n",
        "def forward_propagation(w1,b1,w2,b2,X):\n",
        "    Z1= w1.dot(X) + b1 #first layer of ten units\n",
        "    A1=relu(Z1)         #activation function introduces non linearity\n",
        "\n",
        "    Z2 = w2.dot(A1) + b2  #second hidden layer of ten units\n",
        "    A2=softmax(Z2)        #second activation fn softmax converts into probability\n",
        "\n",
        "    return Z1,A1,Z2,A2"
      ],
      "metadata": {
        "id": "ojvOQAJYVlNy"
      },
      "execution_count": 21,
      "outputs": []
    },
    {
      "cell_type": "code",
      "source": [
        "#back propogation\n",
        "def backward_propagation(Z1, A1, Z2, A2, w1, w2, X, Y):\n",
        "    one_hot_Y = one_hot_encoder(Y)  # Convert labels to one-hot encoding\n",
        "    m=X.shape[1]\n",
        "    dZ2 = A2 - one_hot_Y          # Gradient of the loss wrt Z2\n",
        "    dW2 = 1 / m * dZ2.dot(A1.T)     # Gradient of the loss wrt w2\n",
        "    db2 = 1 / m * np.sum(dZ2, 1).reshape(-1, 1)  # Gradient of the loss wrt b2\n",
        "\n",
        "    dZ1 = w2.T.dot(dZ2) * relu_derivative(Z1)  # Gradient wrt Z1 (backprop through w2)\n",
        "    dW1 = 1 / m * dZ1.dot(X.T)      # Gradient of the loss wrt w1\n",
        "    db1 = 1 / m * np.sum(dZ1, 1).reshape(-1, 1)  # Gradient wrt b1\n",
        "\n",
        "    return dW1, db1, dW2, db2"
      ],
      "metadata": {
        "id": "yfBTcrq3XBmn"
      },
      "execution_count": 22,
      "outputs": []
    },
    {
      "cell_type": "code",
      "source": [
        "def update_paramameters(W1, b1, W2, b2, dW1, db1, dW2, db2, alpha):\n",
        "\n",
        "    W1 -= alpha * dW1\n",
        "    b1 -= alpha * np.reshape(db1, (10,1))\n",
        "    W2 -= alpha * dW2\n",
        "    b2 -= alpha * np.reshape(db2, (10,1))\n",
        "    return W1, b1, W2, b2"
      ],
      "metadata": {
        "id": "FX00oSXmotVv"
      },
      "execution_count": 23,
      "outputs": []
    },
    {
      "cell_type": "code",
      "source": [
        "def get_predictions(A2):\n",
        "    return np.argmax(A2, 0) #argmax gives labels from probabilites"
      ],
      "metadata": {
        "id": "TiZWiTVO1O3x"
      },
      "execution_count": 24,
      "outputs": []
    },
    {
      "cell_type": "code",
      "source": [
        "def get_accuracy(predictions, Y):\n",
        "    print(predictions, Y)\n",
        "    return np.sum(predictions == Y) / Y.size #calculates TP+TN/ TP+TN+FP+FN"
      ],
      "metadata": {
        "id": "anhZUtge4Jlr"
      },
      "execution_count": 25,
      "outputs": []
    },
    {
      "cell_type": "code",
      "source": [
        "def optimiser(X, Y, lr, iterations):\n",
        "    W1, b1, W2, b2 = initialize_params()  # 1.initialise parameters two layers\n",
        "    for i in range(iterations): # 2.train the model\n",
        "        Z1, A1, Z2, A2 = forward_propagation(W1, b1, W2, b2, X) #calculate predictions by using relu and softmax activation function\n",
        "        dW1, db1, dW2, db2 = backward_propagation(Z1, A1, Z2, A2, W1, W2, X, Y) #calculate loss and gradients\n",
        "        W1, b1, W2, b2 = update_paramameters(W1, b1, W2, b2, dW1, db1, dW2, db2, lr) #update the parameters\n",
        "        if i % 100 == 0:\n",
        "            print(\"Epoch: \", i)\n",
        "            predictions = get_predictions(A2) #get predictions using argmax\n",
        "            print(get_accuracy(predictions, Y)) #print results\n",
        "    return W1, b1, W2, b2"
      ],
      "metadata": {
        "id": "iUydNpHI4eL_"
      },
      "execution_count": 26,
      "outputs": []
    },
    {
      "cell_type": "markdown",
      "source": [
        "## Testing\n"
      ],
      "metadata": {
        "id": "wi9uKPDT5Cxa"
      }
    },
    {
      "cell_type": "code",
      "source": [
        "W1,b1,W2,b2 = optimiser(x_train,y_train,0.1,1000)"
      ],
      "metadata": {
        "id": "stDMNbDq5Eed",
        "colab": {
          "base_uri": "https://localhost:8080/"
        },
        "outputId": "be407cf1-a740-4147-a657-91ccc66134fc"
      },
      "execution_count": 27,
      "outputs": [
        {
          "output_type": "stream",
          "name": "stdout",
          "text": [
            "Epoch:  0\n",
            "[0 0 0 ... 0 0 0] [0 2 9 ... 1 8 0]\n",
            "0.09838095238095237\n",
            "Epoch:  100\n",
            "[0 2 9 ... 3 0 0] [0 2 9 ... 1 8 0]\n",
            "0.4267619047619048\n",
            "Epoch:  200\n",
            "[0 2 4 ... 2 2 0] [0 2 9 ... 1 8 0]\n",
            "0.7561666666666667\n",
            "Epoch:  300\n",
            "[0 2 4 ... 2 2 0] [0 2 9 ... 1 8 0]\n",
            "0.8163333333333334\n",
            "Epoch:  400\n",
            "[0 2 4 ... 2 2 0] [0 2 9 ... 1 8 0]\n",
            "0.8423809523809523\n",
            "Epoch:  500\n",
            "[0 2 4 ... 2 2 0] [0 2 9 ... 1 8 0]\n",
            "0.8566428571428572\n",
            "Epoch:  600\n",
            "[0 2 9 ... 2 2 0] [0 2 9 ... 1 8 0]\n",
            "0.8662857142857143\n",
            "Epoch:  700\n",
            "[0 2 9 ... 2 2 0] [0 2 9 ... 1 8 0]\n",
            "0.8729523809523809\n",
            "Epoch:  800\n",
            "[0 2 9 ... 2 8 0] [0 2 9 ... 1 8 0]\n",
            "0.8790238095238095\n",
            "Epoch:  900\n",
            "[0 2 9 ... 2 8 0] [0 2 9 ... 1 8 0]\n",
            "0.8842619047619048\n"
          ]
        }
      ]
    },
    {
      "cell_type": "code",
      "source": [
        "def predict(w1, b1, w2, b2, X):\n",
        "    _, _, _, A2 = forward_propagation(w1, b1, w2, b2, X)\n",
        "    predictions = np.argmax(A2, axis=0)   # pick the class with highest prob\n",
        "    return predictions"
      ],
      "metadata": {
        "id": "AYbAfmg78Lzx"
      },
      "execution_count": 28,
      "outputs": []
    },
    {
      "cell_type": "code",
      "source": [
        "y_pred = predict(W1, b1, W2, b2, x_test)"
      ],
      "metadata": {
        "id": "_peD-PvC8b50"
      },
      "execution_count": 30,
      "outputs": []
    },
    {
      "cell_type": "code",
      "source": [
        "submission = pd.DataFrame({\n",
        "    \"ImageId\": np.arange(1, len(y_pred)+1),\n",
        "    \"Label\": y_pred\n",
        "})\n",
        "\n",
        "submission.to_csv(\"submission.csv\", index=False)"
      ],
      "metadata": {
        "id": "2tHqj9NU_eNv"
      },
      "execution_count": 31,
      "outputs": []
    }
  ]
}